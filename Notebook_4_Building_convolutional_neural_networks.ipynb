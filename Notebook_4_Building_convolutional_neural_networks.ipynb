{
  "nbformat": 4,
  "nbformat_minor": 0,
  "metadata": {
    "accelerator": "GPU",
    "colab": {
      "name": "Notebook_4_Building_convolutional_neural_networks.ipynb",
      "provenance": [],
      "collapsed_sections": [],
      "toc_visible": true
    },
    "kernelspec": {
      "name": "python3",
      "display_name": "Python 3"
    },
    "language_info": {
      "codemirror_mode": {
        "name": "ipython",
        "version": 3
      },
      "file_extension": ".py",
      "mimetype": "text/x-python",
      "name": "python",
      "nbconvert_exporter": "python",
      "pygments_lexer": "ipython3",
      "version": "3.6.8"
    }
  },
  "cells": [
    {
      "cell_type": "markdown",
      "metadata": {
        "id": "TTjXPHPWhPAZ",
        "colab_type": "text"
      },
      "source": [
        "# Neural Networks for Data Science Applications\n",
        "\n",
        "## Lab session 4: Model building with an application to OCR\n",
        "\n",
        "**Contents of the lab session**:\n",
        "* Building CNNs with keras.Model and tf.layers.\n",
        "* Effectively using the TensorBoard for debugging.\n",
        "* Using Keras' ImageDataGenerator for handling datasets of images.\n",
        "* Keras callbacks for checkpointing and TensorBoard."
      ]
    },
    {
      "cell_type": "markdown",
      "metadata": {
        "colab_type": "text",
        "id": "5ZUWq7n3815E"
      },
      "source": [
        "## Virtual machine setup"
      ]
    },
    {
      "cell_type": "code",
      "metadata": {
        "colab_type": "code",
        "id": "LuINk8ttOZxr",
        "colab": {}
      },
      "source": [
        "# Enable the GPU runtime and restart the kernel\n",
        "# Do it at the very beginning "
      ],
      "execution_count": 0,
      "outputs": []
    },
    {
      "cell_type": "code",
      "metadata": {
        "colab_type": "code",
        "id": "xLi3DGBDNtNS",
        "colab": {}
      },
      "source": [
        "# The TensorFlow version currently available on Colab is the 1.15.0\n",
        "\n",
        "# Install the new 2.0 version with GPU support\n",
        "!pip install --quiet tensorflow-gpu==2.0.0\n",
        "\n",
        "# < 400MB\n",
        "# ignore the errors during the installation procedure"
      ],
      "execution_count": 0,
      "outputs": []
    },
    {
      "cell_type": "code",
      "metadata": {
        "colab_type": "code",
        "id": "hQ00m5_SOyzx",
        "colab": {
          "base_uri": "https://localhost:8080/",
          "height": 34
        },
        "outputId": "54b25748-60dd-4504-c2f5-7279cb5c4245"
      },
      "source": [
        "# Import TensorFlow and check the version\n",
        "import tensorflow as tf\n",
        "print(tf.__version__)"
      ],
      "execution_count": 3,
      "outputs": [
        {
          "output_type": "stream",
          "text": [
            "2.0.0\n"
          ],
          "name": "stdout"
        }
      ]
    },
    {
      "cell_type": "markdown",
      "metadata": {
        "colab_type": "text",
        "id": "tadQrO-CSR5h"
      },
      "source": [
        "## Download the dataset"
      ]
    },
    {
      "cell_type": "code",
      "metadata": {
        "colab_type": "code",
        "id": "zPS8lS2t3wos",
        "colab": {
          "base_uri": "https://localhost:8080/",
          "height": 222
        },
        "outputId": "47f98763-dd6d-49fa-be16-8a3c60095dba"
      },
      "source": [
        "# Download the dataset from the \"In Codice Ratio\" website\n",
        "!wget http://www.inf.uniroma3.it/db/icr/dataset_icr.zip\n",
        "# < 5MB"
      ],
      "execution_count": 4,
      "outputs": [
        {
          "output_type": "stream",
          "text": [
            "--2020-01-26 21:53:25--  http://www.inf.uniroma3.it/db/icr/dataset_icr.zip\n",
            "Resolving www.inf.uniroma3.it (www.inf.uniroma3.it)... 193.205.219.57\n",
            "Connecting to www.inf.uniroma3.it (www.inf.uniroma3.it)|193.205.219.57|:80... connected.\n",
            "HTTP request sent, awaiting response... 200 OK\n",
            "Length: 9146769 (8.7M) [application/zip]\n",
            "Saving to: ‘dataset_icr.zip.1’\n",
            "\n",
            "dataset_icr.zip.1   100%[===================>]   8.72M  7.03MB/s    in 1.2s    \n",
            "\n",
            "2020-01-26 21:53:27 (7.03 MB/s) - ‘dataset_icr.zip.1’ saved [9146769/9146769]\n",
            "\n"
          ],
          "name": "stdout"
        }
      ]
    },
    {
      "cell_type": "code",
      "metadata": {
        "id": "qKZRfbun4QXf",
        "colab_type": "code",
        "colab": {}
      },
      "source": [
        "# Unzip the compressed file\n",
        "!unzip -q dataset_icr.zip"
      ],
      "execution_count": 0,
      "outputs": []
    },
    {
      "cell_type": "code",
      "metadata": {
        "colab_type": "code",
        "id": "Eixjnvq38Xt0",
        "colab": {
          "base_uri": "https://localhost:8080/",
          "height": 403
        },
        "outputId": "d534409d-a783-45f4-b3fd-f4c151ca0cc0"
      },
      "source": [
        "# Have a look to the dataset main folder\n",
        "\n",
        "!ls -1 dataset\n",
        "\n",
        "# + We have a separate folder for each character\n",
        "# + We have 23 classes\n",
        "# + There are some duplicated letters (same letter, different shape) and a special \"no_char\" character"
      ],
      "execution_count": 6,
      "outputs": [
        {
          "output_type": "stream",
          "text": [
            "a\n",
            "b\n",
            "c\n",
            "d_1\n",
            "d_2\n",
            "e\n",
            "f\n",
            "g\n",
            "h\n",
            "i\n",
            "l\n",
            "m\n",
            "n\n",
            "not_char\n",
            "o\n",
            "p\n",
            "q\n",
            "r\n",
            "s_1\n",
            "s_2\n",
            "s_3\n",
            "t\n",
            "u\n"
          ],
          "name": "stdout"
        }
      ]
    },
    {
      "cell_type": "code",
      "metadata": {
        "id": "_t_v0Ck7hPAv",
        "colab_type": "code",
        "colab": {}
      },
      "source": [
        "# If you want to read more about the project, check out the publications here:\n",
        "# http://www.inf.uniroma3.it/db/icr/publications.html"
      ],
      "execution_count": 0,
      "outputs": []
    },
    {
      "cell_type": "markdown",
      "metadata": {
        "colab_type": "text",
        "id": "TImhNnuA85hU"
      },
      "source": [
        "## Load the dataset"
      ]
    },
    {
      "cell_type": "code",
      "metadata": {
        "colab_type": "code",
        "id": "4yhavMZh8z3t",
        "colab": {}
      },
      "source": [
        "import tensorflow as tf"
      ],
      "execution_count": 0,
      "outputs": []
    },
    {
      "cell_type": "code",
      "metadata": {
        "colab_type": "code",
        "id": "sDO0bCDg8awk",
        "colab": {}
      },
      "source": [
        "# Generate batches of images with real-time data augmentation\n",
        "# Define the abstract image generator\n",
        "image_generator = tf.keras.preprocessing.image.ImageDataGenerator(rotation_range=5, # up to ±5 degrees\n",
        "                                                                  width_shift_range=0.05, # up to ±5% of the image\n",
        "                                                                  height_shift_range=0.05, # up to ±5% of the image\n",
        "                                                                  rescale=1.0/255, # convert from uint [0, 255] to float [0.0, 1.0]\n",
        "                                                                  validation_split=0.2) # 20% of the samples for the validation set\n",
        "\n",
        "# You can also make a more flexible (and more complex) solution using tf.data"
      ],
      "execution_count": 0,
      "outputs": []
    },
    {
      "cell_type": "code",
      "metadata": {
        "colab_type": "code",
        "id": "mOuY_Xmx8e4r",
        "colab": {
          "base_uri": "https://localhost:8080/",
          "height": 34
        },
        "outputId": "242755ee-a9a7-48a7-fa71-6b66dd0a4465"
      },
      "source": [
        "# Define the specific data generator for our images\n",
        "train_data_gen = image_generator.flow_from_directory(directory='dataset',\n",
        "                                                     subset='training',                                                  \n",
        "                                                     batch_size=32,\n",
        "                                                     shuffle=True,\n",
        "                                                     target_size=(56, 56))"
      ],
      "execution_count": 10,
      "outputs": [
        {
          "output_type": "stream",
          "text": [
            "Found 18400 images belonging to 23 classes.\n"
          ],
          "name": "stdout"
        }
      ]
    },
    {
      "cell_type": "code",
      "metadata": {
        "colab_type": "code",
        "id": "Pv3_l_Tj9PRB",
        "colab": {
          "base_uri": "https://localhost:8080/",
          "height": 34
        },
        "outputId": "a1ae84d0-9ad1-4bae-ca62-0b95c7585d9f"
      },
      "source": [
        "test_data_gen = image_generator.flow_from_directory(directory='dataset',\n",
        "                                                    subset='validation',                                                  \n",
        "                                                    batch_size=32,\n",
        "                                                    shuffle=False,\n",
        "                                                    target_size=(56, 56))"
      ],
      "execution_count": 11,
      "outputs": [
        {
          "output_type": "stream",
          "text": [
            "Found 4600 images belonging to 23 classes.\n"
          ],
          "name": "stdout"
        }
      ]
    },
    {
      "cell_type": "markdown",
      "metadata": {
        "colab_type": "text",
        "id": "8pm2BEbKQdGx"
      },
      "source": [
        "## Look at the dataset"
      ]
    },
    {
      "cell_type": "markdown",
      "metadata": {
        "colab_type": "text",
        "id": "0eVzVGzEPkkN"
      },
      "source": [
        "> \"Become one with the data\"  \n",
        "> Andrej Karpathy\n",
        "\n",
        "(rule n. 1 of [A Recipe for Training Neural Networks](https://karpathy.github.io/2019/04/25/recipe/))"
      ]
    },
    {
      "cell_type": "code",
      "metadata": {
        "colab_type": "code",
        "id": "D3Yno_crrXQi",
        "colab": {
          "base_uri": "https://localhost:8080/",
          "height": 301
        },
        "outputId": "4a43b3e5-88b6-44b0-fc0c-1f6f59851a86"
      },
      "source": [
        "# Plot one (original) image\n",
        "import matplotlib.pyplot as plt\n",
        "image = plt.imread('./dataset/a/1.png')\n",
        "print('image shape:', image.shape)\n",
        "plt.imshow(image, cmap='gray')"
      ],
      "execution_count": 12,
      "outputs": [
        {
          "output_type": "stream",
          "text": [
            "image shape: (56, 56)\n"
          ],
          "name": "stdout"
        },
        {
          "output_type": "execute_result",
          "data": {
            "text/plain": [
              "<matplotlib.image.AxesImage at 0x7f67eb5d1b38>"
            ]
          },
          "metadata": {
            "tags": []
          },
          "execution_count": 12
        },
        {
          "output_type": "display_data",
          "data": {
            "image/png": "[encoded data removed]",
            "text/plain": [
              "<Figure size 432x288 with 1 Axes>"
            ]
          },
          "metadata": {
            "tags": []
          }
        }
      ]
    },
    {
      "cell_type": "code",
      "metadata": {
        "colab_type": "code",
        "id": "0H-lSzOr9Sss",
        "colab": {
          "base_uri": "https://localhost:8080/",
          "height": 304
        },
        "outputId": "7c76a629-a792-4228-98ea-d3ab7c380e9c"
      },
      "source": [
        "# Plot one (augmented) image\n",
        "import matplotlib.pyplot as plt\n",
        "# next iterator returns the first batch\n",
        "x_batch, y_batch = next(train_data_gen)\n",
        "# take the first image of the batch (which has in total 32 images)\n",
        "image = x_batch[0]\n",
        "# y has 23 labels, with the 1 in correspondance of the class of the image\n",
        "label_one_hot = y_batch[0] # one-hot encoded\n",
        "plt.imshow(image)\n",
        "print('label (one-hot encoded):', label_one_hot)"
      ],
      "execution_count": 13,
      "outputs": [
        {
          "output_type": "stream",
          "text": [
            "label (one-hot encoded): [0. 0. 0. 0. 0. 0. 0. 0. 0. 0. 0. 0. 0. 0. 0. 0. 0. 0. 0. 1. 0. 0. 0.]\n"
          ],
          "name": "stdout"
        },
        {
          "output_type": "display_data",
          "data": {
            "image/png": "[encoded data removed]",
            "text/plain": [
              "<Figure size 432x288 with 1 Axes>"
            ]
          },
          "metadata": {
            "tags": []
          }
        }
      ]
    },
    {
      "cell_type": "code",
      "metadata": {
        "id": "tvSo5GCFoOJQ",
        "colab_type": "code",
        "colab": {
          "base_uri": "https://localhost:8080/",
          "height": 34
        },
        "outputId": "a8d51c01-e6da-489a-a675-73fc99de53c3"
      },
      "source": [
        "# dimensioni del primo elemento del primo batch, ovvero della prima immagine del batch\n",
        "x_batch[0].shape"
      ],
      "execution_count": 14,
      "outputs": [
        {
          "output_type": "execute_result",
          "data": {
            "text/plain": [
              "(56, 56, 3)"
            ]
          },
          "metadata": {
            "tags": []
          },
          "execution_count": 14
        }
      ]
    },
    {
      "cell_type": "code",
      "metadata": {
        "colab_type": "code",
        "id": "oTxyoI289_R9",
        "colab": {
          "base_uri": "https://localhost:8080/",
          "height": 34
        },
        "outputId": "43fef639-0b6e-48bc-fe03-0c46c368cc3a"
      },
      "source": [
        "# dimension of the first batch: \n",
        "# number of images = 32\n",
        "# image dimensions= 56x56x3\n",
        "print(x_batch.shape)\n",
        "# Note: Channel last"
      ],
      "execution_count": 15,
      "outputs": [
        {
          "output_type": "stream",
          "text": [
            "(32, 56, 56, 3)\n"
          ],
          "name": "stdout"
        }
      ]
    },
    {
      "cell_type": "code",
      "metadata": {
        "id": "Rm83S82AhPBH",
        "colab_type": "code",
        "colab": {
          "base_uri": "https://localhost:8080/",
          "height": 34
        },
        "outputId": "d5e266cd-1505-4ada-dc8b-4c3afd7c7be6"
      },
      "source": [
        "import numpy as np\n",
        "# dictionary of classes\n",
        "class_dictionary = train_data_gen.class_indices\n",
        "# take the label key corresponding to our image\n",
        "label = list(class_dictionary.keys())[np.argmax(label_one_hot)]\n",
        "print('label:', label)"
      ],
      "execution_count": 16,
      "outputs": [
        {
          "output_type": "stream",
          "text": [
            "label: s_2\n"
          ],
          "name": "stdout"
        }
      ]
    },
    {
      "cell_type": "markdown",
      "metadata": {
        "colab_type": "text",
        "id": "J0xCZKtb9cO9"
      },
      "source": [
        "## Download a CNN from keras.applications"
      ]
    },
    {
      "cell_type": "code",
      "metadata": {
        "colab_type": "code",
        "id": "Dm-d0QxAp32m",
        "colab": {
          "base_uri": "https://localhost:8080/",
          "height": 924
        },
        "outputId": "4d77d8c6-80fd-4c95-e981-fe6eeaa7a7dc"
      },
      "source": [
        "# Download a pretrained neural network\n",
        "from tensorflow.keras import applications\n",
        "vgg = applications.vgg16.VGG16(weights='imagenet')\n",
        "\n",
        "vgg.summary()\n",
        "\n",
        "# ImageNet images are 224x224x3 images belonging to 1000 classes\n",
        "# VGG: Oxford Visual Geometry Group"
      ],
      "execution_count": 17,
      "outputs": [
        {
          "output_type": "stream",
          "text": [
            "Model: \"vgg16\"\n",
            "_________________________________________________________________\n",
            "Layer (type)                 Output Shape              Param #   \n",
            "=================================================================\n",
            "input_1 (InputLayer)         [(None, 224, 224, 3)]     0         \n",
            "_________________________________________________________________\n",
            "block1_conv1 (Conv2D)        (None, 224, 224, 64)      1792      \n",
            "_________________________________________________________________\n",
            "block1_conv2 (Conv2D)        (None, 224, 224, 64)      36928     \n",
            "_________________________________________________________________\n",
            "block1_pool (MaxPooling2D)   (None, 112, 112, 64)      0         \n",
            "_________________________________________________________________\n",
            "block2_conv1 (Conv2D)        (None, 112, 112, 128)     73856     \n",
            "_________________________________________________________________\n",
            "block2_conv2 (Conv2D)        (None, 112, 112, 128)     147584    \n",
            "_________________________________________________________________\n",
            "block2_pool (MaxPooling2D)   (None, 56, 56, 128)       0         \n",
            "_________________________________________________________________\n",
            "block3_conv1 (Conv2D)        (None, 56, 56, 256)       295168    \n",
            "_________________________________________________________________\n",
            "block3_conv2 (Conv2D)        (None, 56, 56, 256)       590080    \n",
            "_________________________________________________________________\n",
            "block3_conv3 (Conv2D)        (None, 56, 56, 256)       590080    \n",
            "_________________________________________________________________\n",
            "block3_pool (MaxPooling2D)   (None, 28, 28, 256)       0         \n",
            "_________________________________________________________________\n",
            "block4_conv1 (Conv2D)        (None, 28, 28, 512)       1180160   \n",
            "_________________________________________________________________\n",
            "block4_conv2 (Conv2D)        (None, 28, 28, 512)       2359808   \n",
            "_________________________________________________________________\n",
            "block4_conv3 (Conv2D)        (None, 28, 28, 512)       2359808   \n",
            "_________________________________________________________________\n",
            "block4_pool (MaxPooling2D)   (None, 14, 14, 512)       0         \n",
            "_________________________________________________________________\n",
            "block5_conv1 (Conv2D)        (None, 14, 14, 512)       2359808   \n",
            "_________________________________________________________________\n",
            "block5_conv2 (Conv2D)        (None, 14, 14, 512)       2359808   \n",
            "_________________________________________________________________\n",
            "block5_conv3 (Conv2D)        (None, 14, 14, 512)       2359808   \n",
            "_________________________________________________________________\n",
            "block5_pool (MaxPooling2D)   (None, 7, 7, 512)         0         \n",
            "_________________________________________________________________\n",
            "flatten (Flatten)            (None, 25088)             0         \n",
            "_________________________________________________________________\n",
            "fc1 (Dense)                  (None, 4096)              102764544 \n",
            "_________________________________________________________________\n",
            "fc2 (Dense)                  (None, 4096)              16781312  \n",
            "_________________________________________________________________\n",
            "predictions (Dense)          (None, 1000)              4097000   \n",
            "=================================================================\n",
            "Total params: 138,357,544\n",
            "Trainable params: 138,357,544\n",
            "Non-trainable params: 0\n",
            "_________________________________________________________________\n"
          ],
          "name": "stdout"
        }
      ]
    },
    {
      "cell_type": "code",
      "metadata": {
        "colab_type": "code",
        "id": "LQZ9LGQF9WH8",
        "colab": {
          "base_uri": "https://localhost:8080/",
          "height": 790
        },
        "outputId": "a4fb2892-c41d-4637-e7b5-bfd1542c23af"
      },
      "source": [
        "vgg = applications.vgg16.VGG16(weights='imagenet', include_top=False, input_shape=(56, 56, 3))\n",
        "vgg.summary()"
      ],
      "execution_count": 18,
      "outputs": [
        {
          "output_type": "stream",
          "text": [
            "Model: \"vgg16\"\n",
            "_________________________________________________________________\n",
            "Layer (type)                 Output Shape              Param #   \n",
            "=================================================================\n",
            "input_2 (InputLayer)         [(None, 56, 56, 3)]       0         \n",
            "_________________________________________________________________\n",
            "block1_conv1 (Conv2D)        (None, 56, 56, 64)        1792      \n",
            "_________________________________________________________________\n",
            "block1_conv2 (Conv2D)        (None, 56, 56, 64)        36928     \n",
            "_________________________________________________________________\n",
            "block1_pool (MaxPooling2D)   (None, 28, 28, 64)        0         \n",
            "_________________________________________________________________\n",
            "block2_conv1 (Conv2D)        (None, 28, 28, 128)       73856     \n",
            "_________________________________________________________________\n",
            "block2_conv2 (Conv2D)        (None, 28, 28, 128)       147584    \n",
            "_________________________________________________________________\n",
            "block2_pool (MaxPooling2D)   (None, 14, 14, 128)       0         \n",
            "_________________________________________________________________\n",
            "block3_conv1 (Conv2D)        (None, 14, 14, 256)       295168    \n",
            "_________________________________________________________________\n",
            "block3_conv2 (Conv2D)        (None, 14, 14, 256)       590080    \n",
            "_________________________________________________________________\n",
            "block3_conv3 (Conv2D)        (None, 14, 14, 256)       590080    \n",
            "_________________________________________________________________\n",
            "block3_pool (MaxPooling2D)   (None, 7, 7, 256)         0         \n",
            "_________________________________________________________________\n",
            "block4_conv1 (Conv2D)        (None, 7, 7, 512)         1180160   \n",
            "_________________________________________________________________\n",
            "block4_conv2 (Conv2D)        (None, 7, 7, 512)         2359808   \n",
            "_________________________________________________________________\n",
            "block4_conv3 (Conv2D)        (None, 7, 7, 512)         2359808   \n",
            "_________________________________________________________________\n",
            "block4_pool (MaxPooling2D)   (None, 3, 3, 512)         0         \n",
            "_________________________________________________________________\n",
            "block5_conv1 (Conv2D)        (None, 3, 3, 512)         2359808   \n",
            "_________________________________________________________________\n",
            "block5_conv2 (Conv2D)        (None, 3, 3, 512)         2359808   \n",
            "_________________________________________________________________\n",
            "block5_conv3 (Conv2D)        (None, 3, 3, 512)         2359808   \n",
            "_________________________________________________________________\n",
            "block5_pool (MaxPooling2D)   (None, 1, 1, 512)         0         \n",
            "=================================================================\n",
            "Total params: 14,714,688\n",
            "Trainable params: 14,714,688\n",
            "Non-trainable params: 0\n",
            "_________________________________________________________________\n"
          ],
          "name": "stdout"
        }
      ]
    },
    {
      "cell_type": "code",
      "metadata": {
        "colab_type": "code",
        "id": "qi0ilDt8-DqM",
        "colab": {}
      },
      "source": [
        "# Make all the layers not trainable\n",
        "for layer in vgg.layers:\n",
        "    layer.trainable = False"
      ],
      "execution_count": 0,
      "outputs": []
    },
    {
      "cell_type": "code",
      "metadata": {
        "colab_type": "code",
        "id": "77xjt4l7ryL1",
        "colab": {
          "base_uri": "https://localhost:8080/",
          "height": 790
        },
        "outputId": "c8db49c0-cb2c-4d8d-a754-059e7bafc5b3"
      },
      "source": [
        "vgg.summary()\n",
        "# Non-trainable parameters: 14714688"
      ],
      "execution_count": 20,
      "outputs": [
        {
          "output_type": "stream",
          "text": [
            "Model: \"vgg16\"\n",
            "_________________________________________________________________\n",
            "Layer (type)                 Output Shape              Param #   \n",
            "=================================================================\n",
            "input_2 (InputLayer)         [(None, 56, 56, 3)]       0         \n",
            "_________________________________________________________________\n",
            "block1_conv1 (Conv2D)        (None, 56, 56, 64)        1792      \n",
            "_________________________________________________________________\n",
            "block1_conv2 (Conv2D)        (None, 56, 56, 64)        36928     \n",
            "_________________________________________________________________\n",
            "block1_pool (MaxPooling2D)   (None, 28, 28, 64)        0         \n",
            "_________________________________________________________________\n",
            "block2_conv1 (Conv2D)        (None, 28, 28, 128)       73856     \n",
            "_________________________________________________________________\n",
            "block2_conv2 (Conv2D)        (None, 28, 28, 128)       147584    \n",
            "_________________________________________________________________\n",
            "block2_pool (MaxPooling2D)   (None, 14, 14, 128)       0         \n",
            "_________________________________________________________________\n",
            "block3_conv1 (Conv2D)        (None, 14, 14, 256)       295168    \n",
            "_________________________________________________________________\n",
            "block3_conv2 (Conv2D)        (None, 14, 14, 256)       590080    \n",
            "_________________________________________________________________\n",
            "block3_conv3 (Conv2D)        (None, 14, 14, 256)       590080    \n",
            "_________________________________________________________________\n",
            "block3_pool (MaxPooling2D)   (None, 7, 7, 256)         0         \n",
            "_________________________________________________________________\n",
            "block4_conv1 (Conv2D)        (None, 7, 7, 512)         1180160   \n",
            "_________________________________________________________________\n",
            "block4_conv2 (Conv2D)        (None, 7, 7, 512)         2359808   \n",
            "_________________________________________________________________\n",
            "block4_conv3 (Conv2D)        (None, 7, 7, 512)         2359808   \n",
            "_________________________________________________________________\n",
            "block4_pool (MaxPooling2D)   (None, 3, 3, 512)         0         \n",
            "_________________________________________________________________\n",
            "block5_conv1 (Conv2D)        (None, 3, 3, 512)         2359808   \n",
            "_________________________________________________________________\n",
            "block5_conv2 (Conv2D)        (None, 3, 3, 512)         2359808   \n",
            "_________________________________________________________________\n",
            "block5_conv3 (Conv2D)        (None, 3, 3, 512)         2359808   \n",
            "_________________________________________________________________\n",
            "block5_pool (MaxPooling2D)   (None, 1, 1, 512)         0         \n",
            "=================================================================\n",
            "Total params: 14,714,688\n",
            "Trainable params: 0\n",
            "Non-trainable params: 14,714,688\n",
            "_________________________________________________________________\n"
          ],
          "name": "stdout"
        }
      ]
    },
    {
      "cell_type": "code",
      "metadata": {
        "colab_type": "code",
        "id": "FNBSR4VQ-Hc8",
        "colab": {}
      },
      "source": [
        "from tensorflow.keras import models, layers\n",
        "\n",
        "def build_model():\n",
        "  model = models.Sequential()\n",
        "  # use the pretrained network as a feature extractor (not trainable)\n",
        "  model.add(vgg)\n",
        "  # add a linear classifier (single layer, trainable) on top of it\n",
        "  model.add(layers.Flatten())\n",
        "  model.add(layers.Dense(23, activation='softmax'))\n",
        "  # define loss, optimizer and metric for the model\n",
        "  model.compile(loss='categorical_crossentropy',\n",
        "                optimizer='adam',\n",
        "                metrics=['accuracy'])\n",
        "\n",
        "  return model"
      ],
      "execution_count": 0,
      "outputs": []
    },
    {
      "cell_type": "code",
      "metadata": {
        "colab_type": "code",
        "id": "2k9jTgKS-It8",
        "colab": {
          "base_uri": "https://localhost:8080/",
          "height": 252
        },
        "outputId": "51a3e6f4-628c-4ae8-fefd-d16a64d024a8"
      },
      "source": [
        "model = build_model()\n",
        "model.summary()"
      ],
      "execution_count": 22,
      "outputs": [
        {
          "output_type": "stream",
          "text": [
            "Model: \"sequential\"\n",
            "_________________________________________________________________\n",
            "Layer (type)                 Output Shape              Param #   \n",
            "=================================================================\n",
            "vgg16 (Model)                (None, 1, 1, 512)         14714688  \n",
            "_________________________________________________________________\n",
            "flatten (Flatten)            (None, 512)               0         \n",
            "_________________________________________________________________\n",
            "dense (Dense)                (None, 23)                11799     \n",
            "=================================================================\n",
            "Total params: 14,726,487\n",
            "Trainable params: 11,799\n",
            "Non-trainable params: 14,714,688\n",
            "_________________________________________________________________\n"
          ],
          "name": "stdout"
        }
      ]
    },
    {
      "cell_type": "code",
      "metadata": {
        "colab_type": "code",
        "id": "ZuITDH2vnw_J",
        "colab": {
          "base_uri": "https://localhost:8080/",
          "height": 369
        },
        "outputId": "fce47e65-506f-4cd0-8996-3823f548e1b5"
      },
      "source": [
        "tf.keras.utils.plot_model(model)"
      ],
      "execution_count": 23,
      "outputs": [
        {
          "output_type": "execute_result",
          "data": {
            "image/png": "[encoded data removed]",
            "text/plain": [
              "<IPython.core.display.Image object>"
            ]
          },
          "metadata": {
            "tags": []
          },
          "execution_count": 23
        }
      ]
    },
    {
      "cell_type": "markdown",
      "metadata": {
        "colab_type": "text",
        "id": "xAhAR8wP_gR9"
      },
      "source": [
        "## Basic fine-tuning (linear classifier only)"
      ]
    },
    {
      "cell_type": "code",
      "metadata": {
        "colab_type": "code",
        "id": "ZaIq9Hjn-Qss",
        "colab": {
          "base_uri": "https://localhost:8080/",
          "height": 373
        },
        "outputId": "0550e581-5dd4-461b-9a9c-34c95d179a45"
      },
      "source": [
        "# train model\n",
        "history = model.fit_generator(train_data_gen, epochs=10, shuffle=True)\n",
        "\n",
        "# ~1.5 minutes for each epoch\n",
        "# Very inefficient computing strategy. Why?\n",
        "# Loss is decreasing, accuracy is increasing. What about overfitting?\n",
        "# Train loss curve only at the end VS while the training is running"
      ],
      "execution_count": 24,
      "outputs": [
        {
          "output_type": "stream",
          "text": [
            "Epoch 1/10\n",
            "575/575 [==============================] - 45s 78ms/step - loss: 2.2754 - accuracy: 0.4566\n",
            "Epoch 2/10\n",
            "575/575 [==============================] - 43s 74ms/step - loss: 1.5522 - accuracy: 0.6214\n",
            "Epoch 3/10\n",
            "575/575 [==============================] - 42s 74ms/step - loss: 1.3010 - accuracy: 0.6657\n",
            "Epoch 4/10\n",
            "575/575 [==============================] - 43s 74ms/step - loss: 1.1637 - accuracy: 0.6883\n",
            "Epoch 5/10\n",
            "575/575 [==============================] - 43s 75ms/step - loss: 1.0716 - accuracy: 0.7085\n",
            "Epoch 6/10\n",
            "575/575 [==============================] - 43s 75ms/step - loss: 0.9982 - accuracy: 0.7279\n",
            "Epoch 7/10\n",
            "575/575 [==============================] - 43s 75ms/step - loss: 0.9496 - accuracy: 0.7397\n",
            "Epoch 8/10\n",
            "575/575 [==============================] - 43s 74ms/step - loss: 0.9086 - accuracy: 0.7487\n",
            "Epoch 9/10\n",
            "575/575 [==============================] - 43s 75ms/step - loss: 0.8740 - accuracy: 0.7540\n",
            "Epoch 10/10\n",
            "575/575 [==============================] - 42s 74ms/step - loss: 0.8426 - accuracy: 0.7638\n"
          ],
          "name": "stdout"
        }
      ]
    },
    {
      "cell_type": "code",
      "metadata": {
        "colab_type": "code",
        "id": "U-0q0FjlwG6z",
        "colab": {
          "base_uri": "https://localhost:8080/",
          "height": 296
        },
        "outputId": "76ab0ee7-2d9e-4f99-c98b-8e3ebb70e6a7"
      },
      "source": [
        "plt.plot(history.history['accuracy'])\n",
        "plt.xlabel('epoch')\n",
        "plt.ylabel('accuracy')"
      ],
      "execution_count": 25,
      "outputs": [
        {
          "output_type": "execute_result",
          "data": {
            "text/plain": [
              "Text(0, 0.5, 'accuracy')"
            ]
          },
          "metadata": {
            "tags": []
          },
          "execution_count": 25
        },
        {
          "output_type": "display_data",
          "data": {
            "image/png": "[encoded data removed]",
            "text/plain": [
              "<Figure size 432x288 with 1 Axes>"
            ]
          },
          "metadata": {
            "tags": []
          }
        }
      ]
    },
    {
      "cell_type": "code",
      "metadata": {
        "colab_type": "code",
        "id": "5Z0V49tT-bJE",
        "colab": {
          "base_uri": "https://localhost:8080/",
          "height": 70
        },
        "outputId": "6319425d-a2bc-4dc8-e180-475fcebbf433"
      },
      "source": [
        "# test model\n",
        "model.evaluate(test_data_gen)"
      ],
      "execution_count": 26,
      "outputs": [
        {
          "output_type": "stream",
          "text": [
            "144/144 [==============================] - 8s 53ms/step - loss: 0.8316 - accuracy: 0.7576\n"
          ],
          "name": "stdout"
        },
        {
          "output_type": "execute_result",
          "data": {
            "text/plain": [
              "[0.83155224720637, 0.7576087]"
            ]
          },
          "metadata": {
            "tags": []
          },
          "execution_count": 26
        }
      ]
    },
    {
      "cell_type": "markdown",
      "metadata": {
        "colab_type": "text",
        "id": "I6aeViPq_kH-"
      },
      "source": [
        "## Checkpointing"
      ]
    },
    {
      "cell_type": "code",
      "metadata": {
        "colab_type": "code",
        "id": "PeMyo7JT_lpm",
        "colab": {}
      },
      "source": [
        "# Let's start again from the beginning\n",
        "model = build_model()"
      ],
      "execution_count": 0,
      "outputs": []
    },
    {
      "cell_type": "code",
      "metadata": {
        "colab_type": "code",
        "id": "L13CQ6g6_VNP",
        "colab": {}
      },
      "source": [
        "from tensorflow.keras import callbacks\n",
        "# Save the model after every epoch.\n",
        "checkpoint_callback = callbacks.ModelCheckpoint(filepath='./checkpoints/model-{epoch:02d}.ckpt', \n",
        "                                                save_weights_only=True,\n",
        "                                                save_freq='epoch',\n",
        "                                                verbose=1)"
      ],
      "execution_count": 0,
      "outputs": []
    },
    {
      "cell_type": "code",
      "metadata": {
        "colab_type": "code",
        "id": "DziS53Um_XaM",
        "colab": {
          "base_uri": "https://localhost:8080/",
          "height": 726
        },
        "outputId": "23e7cbec-7cc7-47af-c2aa-da15f74c929d"
      },
      "source": [
        "# train\n",
        "model.fit_generator(train_data_gen,\n",
        "                    epochs=10,\n",
        "                    shuffle=True,\n",
        "                    callbacks=[checkpoint_callback])"
      ],
      "execution_count": 29,
      "outputs": [
        {
          "output_type": "stream",
          "text": [
            "Epoch 1/10\n",
            "574/575 [============================>.] - ETA: 0s - loss: 2.2633 - accuracy: 0.4532\n",
            "Epoch 00001: saving model to ./checkpoints/model-01.ckpt\n",
            "575/575 [==============================] - 43s 75ms/step - loss: 2.2625 - accuracy: 0.4535\n",
            "Epoch 2/10\n",
            "574/575 [============================>.] - ETA: 0s - loss: 1.5540 - accuracy: 0.6259\n",
            "Epoch 00002: saving model to ./checkpoints/model-02.ckpt\n",
            "575/575 [==============================] - 43s 75ms/step - loss: 1.5539 - accuracy: 0.6258\n",
            "Epoch 3/10\n",
            "574/575 [============================>.] - ETA: 0s - loss: 1.2982 - accuracy: 0.6690\n",
            "Epoch 00003: saving model to ./checkpoints/model-03.ckpt\n",
            "575/575 [==============================] - 43s 75ms/step - loss: 1.2981 - accuracy: 0.6690\n",
            "Epoch 4/10\n",
            "574/575 [============================>.] - ETA: 0s - loss: 1.1637 - accuracy: 0.6933\n",
            "Epoch 00004: saving model to ./checkpoints/model-04.ckpt\n",
            "575/575 [==============================] - 43s 75ms/step - loss: 1.1634 - accuracy: 0.6934\n",
            "Epoch 5/10\n",
            "574/575 [============================>.] - ETA: 0s - loss: 1.0678 - accuracy: 0.7165\n",
            "Epoch 00005: saving model to ./checkpoints/model-05.ckpt\n",
            "575/575 [==============================] - 43s 75ms/step - loss: 1.0677 - accuracy: 0.7165\n",
            "Epoch 6/10\n",
            "574/575 [============================>.] - ETA: 0s - loss: 0.9994 - accuracy: 0.7303\n",
            "Epoch 00006: saving model to ./checkpoints/model-06.ckpt\n",
            "575/575 [==============================] - 43s 74ms/step - loss: 0.9992 - accuracy: 0.7303\n",
            "Epoch 7/10\n",
            "574/575 [============================>.] - ETA: 0s - loss: 0.9512 - accuracy: 0.7374\n",
            "Epoch 00007: saving model to ./checkpoints/model-07.ckpt\n",
            "575/575 [==============================] - 43s 74ms/step - loss: 0.9508 - accuracy: 0.7374\n",
            "Epoch 8/10\n",
            "574/575 [============================>.] - ETA: 0s - loss: 0.9041 - accuracy: 0.7519\n",
            "Epoch 00008: saving model to ./checkpoints/model-08.ckpt\n",
            "575/575 [==============================] - 43s 74ms/step - loss: 0.9042 - accuracy: 0.7519\n",
            "Epoch 9/10\n",
            "574/575 [============================>.] - ETA: 0s - loss: 0.8706 - accuracy: 0.7521\n",
            "Epoch 00009: saving model to ./checkpoints/model-09.ckpt\n",
            "575/575 [==============================] - 43s 74ms/step - loss: 0.8704 - accuracy: 0.7522\n",
            "Epoch 10/10\n",
            "574/575 [============================>.] - ETA: 0s - loss: 0.8398 - accuracy: 0.7639\n",
            "Epoch 00010: saving model to ./checkpoints/model-10.ckpt\n",
            "575/575 [==============================] - 43s 75ms/step - loss: 0.8399 - accuracy: 0.7640\n"
          ],
          "name": "stdout"
        },
        {
          "output_type": "execute_result",
          "data": {
            "text/plain": [
              "<tensorflow.python.keras.callbacks.History at 0x7f67e00680f0>"
            ]
          },
          "metadata": {
            "tags": []
          },
          "execution_count": 29
        }
      ]
    },
    {
      "cell_type": "code",
      "metadata": {
        "colab_type": "code",
        "id": "ESCa_Kni_Z-k",
        "colab": {
          "base_uri": "https://localhost:8080/",
          "height": 286
        },
        "outputId": "e9fc3393-eda0-44b9-d9d5-495ffedca4cb"
      },
      "source": [
        "!ls ./checkpoints"
      ],
      "execution_count": 30,
      "outputs": [
        {
          "output_type": "stream",
          "text": [
            "checkpoint\t\t\t   model-06.ckpt.data-00000-of-00002\n",
            "model-01.ckpt.data-00000-of-00002  model-06.ckpt.data-00001-of-00002\n",
            "model-01.ckpt.data-00001-of-00002  model-06.ckpt.index\n",
            "model-01.ckpt.index\t\t   model-07.ckpt.data-00000-of-00002\n",
            "model-02.ckpt.data-00000-of-00002  model-07.ckpt.data-00001-of-00002\n",
            "model-02.ckpt.data-00001-of-00002  model-07.ckpt.index\n",
            "model-02.ckpt.index\t\t   model-08.ckpt.data-00000-of-00002\n",
            "model-03.ckpt.data-00000-of-00002  model-08.ckpt.data-00001-of-00002\n",
            "model-03.ckpt.data-00001-of-00002  model-08.ckpt.index\n",
            "model-03.ckpt.index\t\t   model-09.ckpt.data-00000-of-00002\n",
            "model-04.ckpt.data-00000-of-00002  model-09.ckpt.data-00001-of-00002\n",
            "model-04.ckpt.data-00001-of-00002  model-09.ckpt.index\n",
            "model-04.ckpt.index\t\t   model-10.ckpt.data-00000-of-00002\n",
            "model-05.ckpt.data-00000-of-00002  model-10.ckpt.data-00001-of-00002\n",
            "model-05.ckpt.data-00001-of-00002  model-10.ckpt.index\n",
            "model-05.ckpt.index\n"
          ],
          "name": "stdout"
        }
      ]
    },
    {
      "cell_type": "code",
      "metadata": {
        "colab_type": "code",
        "id": "55gutzdg_nlM",
        "colab": {
          "base_uri": "https://localhost:8080/",
          "height": 34
        },
        "outputId": "37c6186a-b5f1-473c-d6de-e6c5eb591301"
      },
      "source": [
        "latest_checkpoint = tf.train.latest_checkpoint('./checkpoints')\n",
        "print(latest_checkpoint)"
      ],
      "execution_count": 31,
      "outputs": [
        {
          "output_type": "stream",
          "text": [
            "./checkpoints/model-10.ckpt\n"
          ],
          "name": "stdout"
        }
      ]
    },
    {
      "cell_type": "markdown",
      "metadata": {
        "colab_type": "text",
        "id": "l9SuGGY-y3GR"
      },
      "source": [
        "## Load previous checkpoints"
      ]
    },
    {
      "cell_type": "code",
      "metadata": {
        "colab_type": "code",
        "id": "Pbg3mcO0_psz",
        "colab": {
          "base_uri": "https://localhost:8080/",
          "height": 70
        },
        "outputId": "0b434d00-3ddd-4bc8-b890-bd78fcda8c69"
      },
      "source": [
        "model = build_model() # start again from skratch\n",
        "model.evaluate(test_data_gen)\n",
        "\n",
        "# - Trained feature extractor (on ImageNet)\n",
        "# - Untrained linear classifier"
      ],
      "execution_count": 32,
      "outputs": [
        {
          "output_type": "stream",
          "text": [
            "144/144 [==============================] - 8s 55ms/step - loss: 3.3678 - accuracy: 0.0337\n"
          ],
          "name": "stdout"
        },
        {
          "output_type": "execute_result",
          "data": {
            "text/plain": [
              "[3.367844039367305, 0.033695653]"
            ]
          },
          "metadata": {
            "tags": []
          },
          "execution_count": 32
        }
      ]
    },
    {
      "cell_type": "code",
      "metadata": {
        "colab_type": "code",
        "id": "dInFdyDIdovM",
        "colab": {
          "base_uri": "https://localhost:8080/",
          "height": 70
        },
        "outputId": "3b0b3cdb-45e2-4b4a-d435-8d83469a37e0"
      },
      "source": [
        "# start again the model\n",
        "model = build_model()\n",
        "# load the optimal wights from the last checkpoint \n",
        "# on this way it's not necessary the training\n",
        "model.load_weights(latest_checkpoint)\n",
        "# test model\n",
        "model.evaluate(test_data_gen)\n",
        "\n",
        "# - Trained feature extractor (on ImageNet)\n",
        "# - Trained linear classifier (on In Codice Ratio)"
      ],
      "execution_count": 33,
      "outputs": [
        {
          "output_type": "stream",
          "text": [
            "144/144 [==============================] - 8s 54ms/step - loss: 0.8382 - accuracy: 0.7570\n"
          ],
          "name": "stdout"
        },
        {
          "output_type": "execute_result",
          "data": {
            "text/plain": [
              "[0.8382429906891452, 0.7569565]"
            ]
          },
          "metadata": {
            "tags": []
          },
          "execution_count": 33
        }
      ]
    },
    {
      "cell_type": "markdown",
      "metadata": {
        "colab_type": "text",
        "id": "5bCuca8G_sae"
      },
      "source": [
        "## TensorBoard"
      ]
    },
    {
      "cell_type": "code",
      "metadata": {
        "colab_type": "code",
        "id": "7rTfA_6bADP3",
        "colab": {}
      },
      "source": [
        "model = build_model()"
      ],
      "execution_count": 0,
      "outputs": []
    },
    {
      "cell_type": "code",
      "metadata": {
        "id": "J9unhdFl8k7O",
        "colab_type": "code",
        "colab": {}
      },
      "source": [
        "!pip install tensorboard==2.0.0"
      ],
      "execution_count": 0,
      "outputs": []
    },
    {
      "cell_type": "code",
      "metadata": {
        "colab_type": "code",
        "id": "MHfB-TvX14kV",
        "colab": {
          "base_uri": "https://localhost:8080/",
          "height": 34
        },
        "outputId": "cca66fb4-55ac-4c1f-e961-2b8a47b75be1"
      },
      "source": [
        "import tensorboard\n",
        "print(tensorboard.__version__)"
      ],
      "execution_count": 36,
      "outputs": [
        {
          "output_type": "stream",
          "text": [
            "2.0.0\n"
          ],
          "name": "stdout"
        }
      ]
    },
    {
      "cell_type": "code",
      "metadata": {
        "colab_type": "code",
        "id": "BInLKRNV_qsL",
        "colab": {}
      },
      "source": [
        "%load_ext tensorboard\n",
        "#%reload_ext tensorboard"
      ],
      "execution_count": 0,
      "outputs": []
    },
    {
      "cell_type": "code",
      "metadata": {
        "colab_type": "code",
        "id": "euTXGvhNAqGg",
        "colab": {}
      },
      "source": [
        "logdir = './logs'"
      ],
      "execution_count": 0,
      "outputs": []
    },
    {
      "cell_type": "code",
      "metadata": {
        "id": "nHYTY-7P8njt",
        "colab_type": "code",
        "colab": {}
      },
      "source": [
        "%tensorboard --logdir=$logdir\n",
        "#!kill 3510"
      ],
      "execution_count": 0,
      "outputs": []
    },
    {
      "cell_type": "code",
      "metadata": {
        "colab_type": "code",
        "id": "F-zwIBb0_1Vk",
        "colab": {}
      },
      "source": [
        "tensorboard_callback = tf.keras.callbacks.TensorBoard(log_dir=logdir, update_freq='batch')#10"
      ],
      "execution_count": 0,
      "outputs": []
    },
    {
      "cell_type": "code",
      "metadata": {
        "id": "TxQm36PS7zHQ",
        "colab_type": "code",
        "colab": {}
      },
      "source": [
        "history = model.fit(train_data_gen, epochs=10, shuffle=True, validation_data=test_data_gen, callbacks=[checkpoint_callback, tensorboard_callback])"
      ],
      "execution_count": 0,
      "outputs": []
    },
    {
      "cell_type": "code",
      "metadata": {
        "colab_type": "code",
        "id": "GbvhS5UPfX9O",
        "colab": {}
      },
      "source": [
        "#!rm -r ./logs/*"
      ],
      "execution_count": 0,
      "outputs": []
    },
    {
      "cell_type": "code",
      "metadata": {
        "colab_type": "code",
        "id": "v7jfe-Q2paZ6",
        "colab": {}
      },
      "source": [
        "#vgg = applications.vgg16.VGG16(include_top=False, input_shape=(56, 56, 3), weights=None)"
      ],
      "execution_count": 0,
      "outputs": []
    },
    {
      "cell_type": "code",
      "metadata": {
        "colab_type": "code",
        "id": "lBxEL86DqYNZ",
        "colab": {}
      },
      "source": [
        "shrinked_vgg = models.Sequential([layers.InputLayer(input_shape=(56, 56, 3)), \n",
        "                                  *vgg.layers[0:6], \n",
        "                                  layers.MaxPool2D(pool_size=(5, 5)), \n",
        "                                  layers.Flatten(), \n",
        "                                  layers.Dense(23, activation='softmax')])"
      ],
      "execution_count": 0,
      "outputs": []
    },
    {
      "cell_type": "code",
      "metadata": {
        "colab_type": "code",
        "id": "ovhxiRaUqYke",
        "colab": {}
      },
      "source": [
        "shrinked_vgg.summary()"
      ],
      "execution_count": 0,
      "outputs": []
    },
    {
      "cell_type": "code",
      "metadata": {
        "colab_type": "code",
        "id": "4_0L1x0R-D0C",
        "colab": {}
      },
      "source": [
        "# Make all the layers trainable\n",
        "for layer in shrinked_vgg.layers:\n",
        "    layer.trainable = True\n",
        "\n",
        "shrinked_vgg.summary()"
      ],
      "execution_count": 0,
      "outputs": []
    },
    {
      "cell_type": "code",
      "metadata": {
        "colab_type": "code",
        "id": "OXCTYIW-_xUQ",
        "colab": {}
      },
      "source": [
        "shrinked_vgg.compile(loss='categorical_crossentropy',\n",
        "                     optimizer='adam',\n",
        "                     metrics=['accuracy'])"
      ],
      "execution_count": 0,
      "outputs": []
    },
    {
      "cell_type": "code",
      "metadata": {
        "colab_type": "code",
        "id": "Az93txAh_azi",
        "colab": {}
      },
      "source": [
        "history = shrinked_vgg.fit(train_data_gen, \n",
        "                           epochs=10, \n",
        "                           shuffle=True, \n",
        "                           validation_data=test_data_gen, \n",
        "                           callbacks=[checkpoint_callback, tensorboard_callback])\n"
      ],
      "execution_count": 0,
      "outputs": []
    },
    {
      "cell_type": "code",
      "metadata": {
        "colab_type": "code",
        "id": "WbGL4t4Q_pvR",
        "colab": {}
      },
      "source": [
        "# Homework: define a proper architecture and try to reach the highest possible validation accuracy"
      ],
      "execution_count": 0,
      "outputs": []
    }
  ]
}